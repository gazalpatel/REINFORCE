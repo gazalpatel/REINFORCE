{
  "cells": [
    {
      "cell_type": "code",
      "execution_count": 18,
      "metadata": {
        "colab": {
          "base_uri": "https://localhost:8080/"
        },
        "id": "3Y2Bj00vXnCN",
        "outputId": "d20f2a1e-56ad-4fa3-cb84-0533fa18d1cc"
      },
      "outputs": [
        {
          "output_type": "stream",
          "name": "stderr",
          "text": [
            "/usr/local/lib/python3.10/dist-packages/ipykernel/ipkernel.py:283: DeprecationWarning: `should_run_async` will not call `transform_cell` automatically in the future. Please pass the result to `transformed_cell` argument and any exception that happen during thetransform in `preprocessing_exc_tuple` in IPython 7.17 and above.\n",
            "  and should_run_async(code)\n"
          ]
        }
      ],
      "source": [
        "import torch\n",
        "import torch.nn as nn\n",
        "import torch.nn.functional as F\n",
        "import torch.optim as optim\n",
        "from torch.distributions import Categorical\n",
        "\n",
        "import gym\n",
        "from tqdm import tqdm_notebook\n",
        "import numpy as np\n",
        "from collections import deque"
      ]
    },
    {
      "cell_type": "code",
      "execution_count": 19,
      "metadata": {
        "id": "hYvG1au8XnCO"
      },
      "outputs": [],
      "source": [
        "#discount factor for future utilities\n",
        "DISCOUNT_FACTOR = 0.99\n",
        "\n",
        "#number of episodes to run\n",
        "NUM_EPISODES = 1000\n",
        "\n",
        "#max steps per episode\n",
        "MAX_STEPS = 10000\n",
        "\n",
        "#score agent needs for environment to be solved\n",
        "SOLVED_SCORE = 195\n",
        "\n",
        "#device to run model on\n",
        "DEVICE = \"cuda\" if torch.cuda.is_available() else \"cpu\""
      ]
    },
    {
      "cell_type": "code",
      "execution_count": 20,
      "metadata": {
        "id": "nEH32g7mXnCP"
      },
      "outputs": [],
      "source": [
        "#Using a neural network to learn our policy parameters\n",
        "class PolicyNetwork(nn.Module):\n",
        "\n",
        "    #Takes in observations and outputs actions\n",
        "    def __init__(self, observation_space, action_space):\n",
        "        super(PolicyNetwork, self).__init__()\n",
        "        self.input_layer = nn.Linear(observation_space, 128)\n",
        "        self.output_layer = nn.Linear(128, action_space)\n",
        "\n",
        "    #forward pass\n",
        "    def forward(self, x):\n",
        "        #input states\n",
        "        x = self.input_layer(x)\n",
        "\n",
        "        #relu activation\n",
        "        x = F.relu(x)\n",
        "\n",
        "        #actions\n",
        "        actions = self.output_layer(x)\n",
        "\n",
        "        #get softmax for a probability distribution\n",
        "        action_probs = F.softmax(actions, dim=1)\n",
        "\n",
        "        return action_probs"
      ]
    },
    {
      "cell_type": "code",
      "execution_count": 21,
      "metadata": {
        "id": "0hDOPB1aXnCP"
      },
      "outputs": [],
      "source": [
        "#Using a neural network to learn state value\n",
        "class StateValueNetwork(nn.Module):\n",
        "\n",
        "    #Takes in state\n",
        "    def __init__(self, observation_space):\n",
        "        super(StateValueNetwork, self).__init__()\n",
        "\n",
        "        self.input_layer = nn.Linear(observation_space, 128)\n",
        "        self.output_layer = nn.Linear(128, 1)\n",
        "\n",
        "    def forward(self, x):\n",
        "        #input layer\n",
        "        x = self.input_layer(x)\n",
        "\n",
        "        #activiation relu\n",
        "        x = F.relu(x)\n",
        "\n",
        "        #get state value\n",
        "        state_value = self.output_layer(x)\n",
        "\n",
        "        return state_value"
      ]
    },
    {
      "cell_type": "code",
      "execution_count": 22,
      "metadata": {
        "id": "vbHueGvgXnCP"
      },
      "outputs": [],
      "source": [
        "def select_action(network, state):\n",
        "    ''' Selects an action given current state\n",
        "    Args:\n",
        "    - network (Torch NN): network to process state\n",
        "    - state (Array): Array of action space in an environment\n",
        "\n",
        "    Return:\n",
        "    - (int): action that is selected\n",
        "    - (float): log probability of selecting that action given state and network\n",
        "    '''\n",
        "\n",
        "    #convert state to float tensor, add 1 dimension, allocate tensor on device\n",
        "    state = torch.from_numpy(state).float().unsqueeze(0).to(DEVICE)\n",
        "\n",
        "    #use network to predict action probabilities\n",
        "    action_probs = network(state)\n",
        "    state = state.detach()\n",
        "\n",
        "    #sample an action using the probability distribution\n",
        "    m = Categorical(action_probs)\n",
        "    action = m.sample()\n",
        "\n",
        "    #return action\n",
        "    return action.item(), m.log_prob(action)"
      ]
    },
    {
      "cell_type": "code",
      "execution_count": 23,
      "metadata": {
        "id": "PpIrMIv8XnCP"
      },
      "outputs": [],
      "source": [
        "def process_rewards(rewards):\n",
        "    ''' Converts our rewards history into cumulative discounted rewards\n",
        "    Args:\n",
        "    - rewards (Array): array of rewards\n",
        "\n",
        "    Returns:\n",
        "    - G (Array): array of cumulative discounted rewards\n",
        "    '''\n",
        "    #Calculate Gt (cumulative discounted rewards)\n",
        "    G = []\n",
        "\n",
        "    #track cumulative reward\n",
        "    total_r = 0\n",
        "\n",
        "    #iterate rewards from Gt to G0\n",
        "    for r in reversed(rewards):\n",
        "\n",
        "        #Base case: G(T) = r(T)\n",
        "        #Recursive: G(t) = r(t) + G(t+1)^DISCOUNT\n",
        "        total_r = r + total_r * DISCOUNT_FACTOR\n",
        "\n",
        "        #add to front of G\n",
        "        G.insert(0, total_r)\n",
        "\n",
        "    #whitening rewards\n",
        "    G = torch.tensor(G).to(DEVICE)\n",
        "    G = (G - G.mean())/G.std()\n",
        "\n",
        "    return G"
      ]
    },
    {
      "cell_type": "code",
      "execution_count": 24,
      "metadata": {
        "id": "toiMAwLGXnCQ"
      },
      "outputs": [],
      "source": [
        "def train_policy(deltas, log_probs, optimizer):\n",
        "    ''' Update policy parameters\n",
        "    Args:\n",
        "    - deltas (Array): difference between predicted stateval and actual stateval (Gt)\n",
        "    - log_probs (Array): trajectory of log probabilities of action taken\n",
        "    - optimizer (Pytorch optimizer): optimizer to update policy network parameters\n",
        "    '''\n",
        "\n",
        "    #store updates\n",
        "    policy_loss = []\n",
        "\n",
        "    #calculate loss to be backpropagated\n",
        "    for d, lp in zip(deltas, log_probs):\n",
        "        #add negative sign since we are performing gradient ascent\n",
        "        policy_loss.append(-d * lp)\n",
        "\n",
        "    #Backpropagation\n",
        "    optimizer.zero_grad()\n",
        "    sum(policy_loss).backward()\n",
        "    optimizer.step()\n",
        ""
      ]
    },
    {
      "cell_type": "code",
      "execution_count": 25,
      "metadata": {
        "id": "oZzboJczXnCQ"
      },
      "outputs": [],
      "source": [
        "def train_value(G, state_vals, optimizer):\n",
        "    ''' Update state-value network parameters\n",
        "    Args:\n",
        "    - G (Array): trajectory of cumulative discounted rewards\n",
        "    - state_vals (Array): trajectory of predicted state-value at each step\n",
        "    - optimizer (Pytorch optimizer): optimizer to update state-value network parameters\n",
        "    '''\n",
        "\n",
        "    #calculate MSE loss\n",
        "    val_loss = F.mse_loss(state_vals, G)\n",
        "\n",
        "    #Backpropagate\n",
        "    optimizer.zero_grad()\n",
        "    val_loss.backward()\n",
        "    optimizer.step()"
      ]
    },
    {
      "cell_type": "code",
      "execution_count": 26,
      "metadata": {
        "colab": {
          "base_uri": "https://localhost:8080/"
        },
        "id": "vEfrSaIYXnCQ",
        "outputId": "daa95129-199c-45af-fd56-c4e3766ffdef"
      },
      "outputs": [
        {
          "output_type": "stream",
          "name": "stderr",
          "text": [
            "/usr/local/lib/python3.10/dist-packages/gym/envs/registration.py:593: UserWarning: \u001b[33mWARN: The environment CartPole-v0 is out of date. You should consider upgrading to version `v1`.\u001b[0m\n",
            "  logger.warn(\n",
            "/usr/local/lib/python3.10/dist-packages/gym/core.py:317: DeprecationWarning: \u001b[33mWARN: Initializing wrapper in old step API which returns one bool instead of two. It is recommended to set `new_step_api=True` to use new step API. This will be the default behaviour in future.\u001b[0m\n",
            "  deprecation(\n",
            "/usr/local/lib/python3.10/dist-packages/gym/wrappers/step_api_compatibility.py:39: DeprecationWarning: \u001b[33mWARN: Initializing environment in old step API which returns one bool instead of two. It is recommended to set `new_step_api=True` to use new step API. This will be the default behaviour in future.\u001b[0m\n",
            "  deprecation(\n"
          ]
        }
      ],
      "source": [
        "#Make environment\n",
        "env = gym.make('CartPole-v0')\n",
        "\n",
        "#Init network\n",
        "policy_network = PolicyNetwork(env.observation_space.shape[0], env.action_space.n).to(DEVICE)\n",
        "stateval_network = StateValueNetwork(env.observation_space.shape[0]).to(DEVICE)\n",
        "\n",
        "\n",
        "#Init optimizer\n",
        "policy_optimizer = optim.Adam(policy_network.parameters(), lr=1e-2)\n",
        "stateval_optimizer = optim.Adam(stateval_network.parameters(), lr=1e-2)"
      ]
    },
    {
      "cell_type": "code",
      "execution_count": 27,
      "metadata": {
        "scrolled": false,
        "colab": {
          "base_uri": "https://localhost:8080/",
          "height": 136,
          "referenced_widgets": [
            "725d65bce92e4946b082d00188252c1e",
            "bf3e6bbf90184fb49db1420f92fab313",
            "5c9f604d665444b1a8855ffacab020a5",
            "c11fec3b4ddd476bbc56645129eeaca1",
            "8760c8936f8d406f97c1687dcaee7ae7",
            "e3224b4040d149fda132db501e9cc954",
            "6d24645bcd0f481097e1f1f2b9673e1c",
            "226a29a2dc18469c9884af26d3b65219",
            "459084cde906438e96f7d90218b1714d",
            "308c64e126924da18e3223b14b40190e",
            "c678aca5a4e6469b97b65395dc51c9ec"
          ]
        },
        "id": "5r5CyRVvXnCQ",
        "outputId": "1932555a-fb84-4910-bf3c-ded951e3336e"
      },
      "outputs": [
        {
          "output_type": "stream",
          "name": "stderr",
          "text": [
            "<ipython-input-27-46d520853290>:8: TqdmDeprecationWarning: This function will be removed in tqdm==5.0.0\n",
            "Please use `tqdm.notebook.tqdm` instead of `tqdm.tqdm_notebook`\n",
            "  for episode in tqdm_notebook(range(NUM_EPISODES)):\n"
          ]
        },
        {
          "output_type": "display_data",
          "data": {
            "text/plain": [
              "  0%|          | 0/1000 [00:00<?, ?it/s]"
            ],
            "application/vnd.jupyter.widget-view+json": {
              "version_major": 2,
              "version_minor": 0,
              "model_id": "725d65bce92e4946b082d00188252c1e"
            }
          },
          "metadata": {}
        },
        {
          "output_type": "stream",
          "name": "stderr",
          "text": [
            "/usr/local/lib/python3.10/dist-packages/gym/utils/passive_env_checker.py:241: DeprecationWarning: `np.bool8` is a deprecated alias for `np.bool_`.  (Deprecated NumPy 1.24)\n",
            "  if not isinstance(terminated, (bool, np.bool8)):\n"
          ]
        }
      ],
      "source": [
        "#track scores\n",
        "scores = []\n",
        "track_action = []\n",
        "#recent 100 scores\n",
        "recent_scores = deque(maxlen=100)\n",
        "\n",
        "#iterate through episodes\n",
        "for episode in tqdm_notebook(range(NUM_EPISODES)):\n",
        "\n",
        "    #reset environment, initiable variables\n",
        "    state = env.reset()\n",
        "    trajectory = []\n",
        "    score = 0\n",
        "\n",
        "\n",
        "\n",
        "    #generate episode\n",
        "    for step in range(MAX_STEPS):\n",
        "        #env.render()\n",
        "\n",
        "        #select action\n",
        "        action, lp = select_action(policy_network, state)\n",
        "\n",
        "        #execute action\n",
        "        new_state, reward, done, _ = env.step(action)\n",
        "\n",
        "        #track episode score\n",
        "        score += reward\n",
        "\n",
        "        #track action\n",
        "        track_action.append(action)\n",
        "\n",
        "\n",
        "        #store into trajectory\n",
        "        trajectory.append([state, action, reward, lp])\n",
        "\n",
        "        #end episode\n",
        "        if done:\n",
        "            break\n",
        "\n",
        "        #move into new state\n",
        "        state = new_state\n",
        "\n",
        "    #append score\n",
        "    scores.append(score)\n",
        "    recent_scores.append(score)\n",
        "\n",
        "    #check if agent finished training\n",
        "    if len(recent_scores) == 100:\n",
        "        average = sum(recent_scores)/len(recent_scores)\n",
        "        if average >= SOLVED_SCORE:\n",
        "            break\n",
        "\n",
        "\n",
        "    #get items from trajectory\n",
        "    states = [step[0] for step in trajectory]\n",
        "    actions = [step[1] for step in trajectory]\n",
        "    rewards = [step[2] for step in trajectory]\n",
        "    lps = [step[3] for step in trajectory]\n",
        "\n",
        "    #get discounted rewards\n",
        "    G = process_rewards(rewards)\n",
        "    #G = torch.tensor(G).to(DEVICE)\n",
        "\n",
        "    #calculate state values and train statevalue network\n",
        "    state_vals = []\n",
        "    for state in states:\n",
        "        state = torch.from_numpy(state).float().unsqueeze(0).to(DEVICE)\n",
        "        state_vals.append(stateval_network(state))\n",
        "\n",
        "    state_vals = torch.stack(state_vals).squeeze()\n",
        "\n",
        "    train_value(G, state_vals, stateval_optimizer)\n",
        "\n",
        "    #calculate deltas and train policy network\n",
        "    deltas = [gt - val for gt, val in zip(G, state_vals)]\n",
        "    deltas = torch.tensor(deltas).to(DEVICE)\n",
        "\n",
        "    train_policy(deltas, lps, policy_optimizer)\n",
        "\n",
        "\n",
        "env.close()"
      ]
    },
    {
      "cell_type": "markdown",
      "metadata": {
        "id": "PaIQX_vSXnCR"
      },
      "source": [
        "#### Plotting training score:"
      ]
    },
    {
      "cell_type": "code",
      "execution_count": 28,
      "metadata": {
        "scrolled": true,
        "colab": {
          "base_uri": "https://localhost:8080/",
          "height": 480
        },
        "id": "S6iK8l4MXnCR",
        "outputId": "4127b8af-d8c6-42c8-ab3b-00a1402449e4"
      },
      "outputs": [
        {
          "output_type": "display_data",
          "data": {
            "text/plain": [
              "<Figure size 640x480 with 1 Axes>"
            ],
            "image/png": "[encoded data removed]"
          },
          "metadata": {}
        }
      ],
      "source": [
        "import matplotlib.pyplot as plt\n",
        "from sklearn.linear_model import LinearRegression\n",
        "import seaborn as sns\n",
        "import numpy as np\n",
        "\n",
        "sns.set()\n",
        "\n",
        "plt.plot(scores)\n",
        "plt.ylabel('score')\n",
        "plt.xlabel('episodes')\n",
        "plt.title('Training score of CartPole with REINFORCE+Whitening rewards')\n",
        "\n",
        "reg = LinearRegression().fit(np.arange(len(scores)).reshape(-1, 1), np.array(scores).reshape(-1, 1))\n",
        "y_pred = reg.predict(np.arange(len(scores)).reshape(-1, 1))\n",
        "plt.plot(y_pred)\n",
        "plt.show()"
      ]
    },
    {
      "cell_type": "markdown",
      "metadata": {
        "id": "MnfRVJguXnCR"
      },
      "source": [
        "#### Random Policy:"
      ]
    },
    {
      "cell_type": "code",
      "execution_count": 29,
      "metadata": {
        "colab": {
          "base_uri": "https://localhost:8080/"
        },
        "id": "dR4I98YwXnCS",
        "outputId": "069fe390-e766-4b59-94f5-884b6162a4b2"
      },
      "outputs": [
        {
          "output_type": "stream",
          "name": "stderr",
          "text": [
            "/usr/local/lib/python3.10/dist-packages/ipykernel/ipkernel.py:283: DeprecationWarning: `should_run_async` will not call `transform_cell` automatically in the future. Please pass the result to `transformed_cell` argument and any exception that happen during thetransform in `preprocessing_exc_tuple` in IPython 7.17 and above.\n",
            "  and should_run_async(code)\n",
            "/usr/local/lib/python3.10/dist-packages/gym/core.py:49: DeprecationWarning: \u001b[33mWARN: You are calling render method, but you didn't specified the argument render_mode at environment initialization. To maintain backward compatibility, the environment will render in human mode.\n",
            "If you want to render in human mode, initialize the environment in this way: gym.make('EnvName', render_mode='human') and don't call the render method.\n",
            "See here for more information: https://www.gymlibrary.ml/content/api/\u001b[0m\n",
            "  deprecation(\n"
          ]
        }
      ],
      "source": [
        "done = False\n",
        "state = env.reset()\n",
        "scores_test = []\n",
        "\n",
        "for _ in range(10):\n",
        "    state = env.reset()\n",
        "    done = False\n",
        "    score = 0\n",
        "    while not done:\n",
        "        env.render()\n",
        "        action = env.action_space.sample()\n",
        "        new_state, reward, done, info = env.step(action)\n",
        "        score += reward\n",
        "        state = new_state\n",
        "    scores_test.append(score)\n",
        "env.close()"
      ]
    },
    {
      "cell_type": "markdown",
      "metadata": {
        "id": "VaKdfXKVXnCS"
      },
      "source": [
        "#### Trying Policy:"
      ]
    },
    {
      "cell_type": "code",
      "execution_count": 34,
      "metadata": {
        "scrolled": true,
        "colab": {
          "base_uri": "https://localhost:8080/",
          "height": 101,
          "referenced_widgets": [
            "d81896dbd81b412db310e610fdeb1f8c",
            "e0b221d19bf2426b8d14616d5ec3fe32",
            "6d5dc792933849628961096584682346",
            "33b5f9a0b3dc4fc687079bed0443248c",
            "6094e9228db24595a7310a8b5a276297",
            "299728e9410d41319a954d2183558b8a",
            "5d1c5bb632524e939a801cd10e0afbcb",
            "1f3a32ea08a14e1a995843d0edd9c8ce",
            "7f69424afc0d4f49a8240ee044f76096",
            "e7fa7ddfcf3d4436bf8fc84dae9e7360",
            "0ac48a70cbd9492fb893f2aa7fdc90a3"
          ]
        },
        "id": "cshozezcXnCS",
        "outputId": "1d9dffb0-3026-4f9b-f136-8eeb761f8e0e"
      },
      "outputs": [
        {
          "output_type": "stream",
          "name": "stderr",
          "text": [
            "<ipython-input-34-d7d92c76c675>:5: TqdmDeprecationWarning: This function will be removed in tqdm==5.0.0\n",
            "Please use `tqdm.notebook.tqdm` instead of `tqdm.tqdm_notebook`\n",
            "  for _ in tqdm_notebook(range(1000)):\n"
          ]
        },
        {
          "output_type": "display_data",
          "data": {
            "text/plain": [
              "  0%|          | 0/1000 [00:00<?, ?it/s]"
            ],
            "application/vnd.jupyter.widget-view+json": {
              "version_major": 2,
              "version_minor": 0,
              "model_id": "d81896dbd81b412db310e610fdeb1f8c"
            }
          },
          "metadata": {}
        }
      ],
      "source": [
        "done = False\n",
        "state = env.reset()\n",
        "scores_test = []\n",
        "\n",
        "for _ in tqdm_notebook(range(1000)):\n",
        "    state = env.reset()\n",
        "    done = False\n",
        "    score = 0\n",
        "    while not done:\n",
        "        #env.render()\n",
        "        action, lp = select_action(policy_network, state)\n",
        "        new_state, reward, done, info = env.step(action)\n",
        "        score += reward\n",
        "        state = new_state\n",
        "    scores_test.append(score)"
      ]
    },
    {
      "cell_type": "code",
      "execution_count": 35,
      "metadata": {
        "scrolled": true,
        "colab": {
          "base_uri": "https://localhost:8080/"
        },
        "id": "s0xLWGvqXnCS",
        "outputId": "a92455df-574d-459e-be8e-81a2ea9c01bc"
      },
      "outputs": [
        {
          "output_type": "execute_result",
          "data": {
            "text/plain": [
              "200.0"
            ]
          },
          "metadata": {},
          "execution_count": 35
        }
      ],
      "source": [
        "np.array(scores_test).mean()"
      ]
    },
    {
      "cell_type": "code",
      "source": [
        "# Plotting training score:\n",
        "sns.set()\n",
        "\n",
        "plt.plot(scores_test)\n",
        "plt.ylabel('Score')\n",
        "plt.xlabel('Episodes')\n",
        "plt.title('Training Score of CartPole with REINFORCE+Whitening Rewards')\n",
        "\n",
        "# You can add a linear regression trend line if you want\n",
        "# reg = LinearRegression().fit(np.arange(len(scores)).reshape(-1, 1), np.array(scores).reshape(-1, 1))\n",
        "# y_pred = reg.predict(np.arange(len(scores)).reshape(-1, 1))\n",
        "# plt.plot(y_pred)\n",
        "\n",
        "plt.show()"
      ],
      "metadata": {
        "colab": {
          "base_uri": "https://localhost:8080/",
          "height": 480
        },
        "id": "YeLZe9JxoWFm",
        "outputId": "c00f7065-e63e-44e3-df97-64c2d4d4823c"
      },
      "execution_count": 36,
      "outputs": [
        {
          "output_type": "display_data",
          "data": {
            "text/plain": [
              "<Figure size 640x480 with 1 Axes>"
            ],
            "image/png": "[encoded data removed]"
          },
          "metadata": {}
        }
      ]
    },
    {
      "cell_type": "code",
      "source": [],
      "metadata": {
        "id": "ENceNRkxk-Fw"
      },
      "execution_count": 32,
      "outputs": []
    }
  ],
  "metadata": {
    "kernelspec": {
      "display_name": "Python 3",
      "language": "python",
      "name": "python3"
    },
    "language_info": {
      "codemirror_mode": {
        "name": "ipython",
        "version": 3
      },
      "file_extension": ".py",
      "mimetype": "text/x-python",
      "name": "python",
      "nbconvert_exporter": "python",
      "pygments_lexer": "ipython3",
      "version": "3.7.4"
    },
    "colab": {
      "provenance": []
    },
    "widgets": {
      "application/vnd.jupyter.widget-state+json": {
        "725d65bce92e4946b082d00188252c1e": {
          "model_module": "@jupyter-widgets/controls",
          "model_name": "HBoxModel",
          "model_module_version": "1.5.0",
          "state": {
            "_dom_classes": [],
            "_model_module": "@jupyter-widgets/controls",
            "_model_module_version": "1.5.0",
            "_model_name": "HBoxModel",
            "_view_count": null,
            "_view_module": "@jupyter-widgets/controls",
            "_view_module_version": "1.5.0",
            "_view_name": "HBoxView",
            "box_style": "",
            "children": [
              "IPY_MODEL_bf3e6bbf90184fb49db1420f92fab313",
              "IPY_MODEL_5c9f604d665444b1a8855ffacab020a5",
              "IPY_MODEL_c11fec3b4ddd476bbc56645129eeaca1"
            ],
            "layout": "IPY_MODEL_8760c8936f8d406f97c1687dcaee7ae7"
          }
        },
        "bf3e6bbf90184fb49db1420f92fab313": {
          "model_module": "@jupyter-widgets/controls",
          "model_name": "HTMLModel",
          "model_module_version": "1.5.0",
          "state": {
            "_dom_classes": [],
            "_model_module": "@jupyter-widgets/controls",
            "_model_module_version": "1.5.0",
            "_model_name": "HTMLModel",
            "_view_count": null,
            "_view_module": "@jupyter-widgets/controls",
            "_view_module_version": "1.5.0",
            "_view_name": "HTMLView",
            "description": "",
            "description_tooltip": null,
            "layout": "IPY_MODEL_e3224b4040d149fda132db501e9cc954",
            "placeholder": "​",
            "style": "IPY_MODEL_6d24645bcd0f481097e1f1f2b9673e1c",
            "value": " 71%"
          }
        },
        "5c9f604d665444b1a8855ffacab020a5": {
          "model_module": "@jupyter-widgets/controls",
          "model_name": "FloatProgressModel",
          "model_module_version": "1.5.0",
          "state": {
            "_dom_classes": [],
            "_model_module": "@jupyter-widgets/controls",
            "_model_module_version": "1.5.0",
            "_model_name": "FloatProgressModel",
            "_view_count": null,
            "_view_module": "@jupyter-widgets/controls",
            "_view_module_version": "1.5.0",
            "_view_name": "ProgressView",
            "bar_style": "danger",
            "description": "",
            "description_tooltip": null,
            "layout": "IPY_MODEL_226a29a2dc18469c9884af26d3b65219",
            "max": 1000,
            "min": 0,
            "orientation": "horizontal",
            "style": "IPY_MODEL_459084cde906438e96f7d90218b1714d",
            "value": 709
          }
        },
        "c11fec3b4ddd476bbc56645129eeaca1": {
          "model_module": "@jupyter-widgets/controls",
          "model_name": "HTMLModel",
          "model_module_version": "1.5.0",
          "state": {
            "_dom_classes": [],
            "_model_module": "@jupyter-widgets/controls",
            "_model_module_version": "1.5.0",
            "_model_name": "HTMLModel",
            "_view_count": null,
            "_view_module": "@jupyter-widgets/controls",
            "_view_module_version": "1.5.0",
            "_view_name": "HTMLView",
            "description": "",
            "description_tooltip": null,
            "layout": "IPY_MODEL_308c64e126924da18e3223b14b40190e",
            "placeholder": "​",
            "style": "IPY_MODEL_c678aca5a4e6469b97b65395dc51c9ec",
            "value": " 709/1000 [00:56&lt;01:15,  3.83it/s]"
          }
        },
        "8760c8936f8d406f97c1687dcaee7ae7": {
          "model_module": "@jupyter-widgets/base",
          "model_name": "LayoutModel",
          "model_module_version": "1.2.0",
          "state": {
            "_model_module": "@jupyter-widgets/base",
            "_model_module_version": "1.2.0",
            "_model_name": "LayoutModel",
            "_view_count": null,
            "_view_module": "@jupyter-widgets/base",
            "_view_module_version": "1.2.0",
            "_view_name": "LayoutView",
            "align_content": null,
            "align_items": null,
            "align_self": null,
            "border": null,
            "bottom": null,
            "display": null,
            "flex": null,
            "flex_flow": null,
            "grid_area": null,
            "grid_auto_columns": null,
            "grid_auto_flow": null,
            "grid_auto_rows": null,
            "grid_column": null,
            "grid_gap": null,
            "grid_row": null,
            "grid_template_areas": null,
            "grid_template_columns": null,
            "grid_template_rows": null,
            "height": null,
            "justify_content": null,
            "justify_items": null,
            "left": null,
            "margin": null,
            "max_height": null,
            "max_width": null,
            "min_height": null,
            "min_width": null,
            "object_fit": null,
            "object_position": null,
            "order": null,
            "overflow": null,
            "overflow_x": null,
            "overflow_y": null,
            "padding": null,
            "right": null,
            "top": null,
            "visibility": null,
            "width": null
          }
        },
        "e3224b4040d149fda132db501e9cc954": {
          "model_module": "@jupyter-widgets/base",
          "model_name": "LayoutModel",
          "model_module_version": "1.2.0",
          "state": {
            "_model_module": "@jupyter-widgets/base",
            "_model_module_version": "1.2.0",
            "_model_name": "LayoutModel",
            "_view_count": null,
            "_view_module": "@jupyter-widgets/base",
            "_view_module_version": "1.2.0",
            "_view_name": "LayoutView",
            "align_content": null,
            "align_items": null,
            "align_self": null,
            "border": null,
            "bottom": null,
            "display": null,
            "flex": null,
            "flex_flow": null,
            "grid_area": null,
            "grid_auto_columns": null,
            "grid_auto_flow": null,
            "grid_auto_rows": null,
            "grid_column": null,
            "grid_gap": null,
            "grid_row": null,
            "grid_template_areas": null,
            "grid_template_columns": null,
            "grid_template_rows": null,
            "height": null,
            "justify_content": null,
            "justify_items": null,
            "left": null,
            "margin": null,
            "max_height": null,
            "max_width": null,
            "min_height": null,
            "min_width": null,
            "object_fit": null,
            "object_position": null,
            "order": null,
            "overflow": null,
            "overflow_x": null,
            "overflow_y": null,
            "padding": null,
            "right": null,
            "top": null,
            "visibility": null,
            "width": null
          }
        },
        "6d24645bcd0f481097e1f1f2b9673e1c": {
          "model_module": "@jupyter-widgets/controls",
          "model_name": "DescriptionStyleModel",
          "model_module_version": "1.5.0",
          "state": {
            "_model_module": "@jupyter-widgets/controls",
            "_model_module_version": "1.5.0",
            "_model_name": "DescriptionStyleModel",
            "_view_count": null,
            "_view_module": "@jupyter-widgets/base",
            "_view_module_version": "1.2.0",
            "_view_name": "StyleView",
            "description_width": ""
          }
        },
        "226a29a2dc18469c9884af26d3b65219": {
          "model_module": "@jupyter-widgets/base",
          "model_name": "LayoutModel",
          "model_module_version": "1.2.0",
          "state": {
            "_model_module": "@jupyter-widgets/base",
            "_model_module_version": "1.2.0",
            "_model_name": "LayoutModel",
            "_view_count": null,
            "_view_module": "@jupyter-widgets/base",
            "_view_module_version": "1.2.0",
            "_view_name": "LayoutView",
            "align_content": null,
            "align_items": null,
            "align_self": null,
            "border": null,
            "bottom": null,
            "display": null,
            "flex": null,
            "flex_flow": null,
            "grid_area": null,
            "grid_auto_columns": null,
            "grid_auto_flow": null,
            "grid_auto_rows": null,
            "grid_column": null,
            "grid_gap": null,
            "grid_row": null,
            "grid_template_areas": null,
            "grid_template_columns": null,
            "grid_template_rows": null,
            "height": null,
            "justify_content": null,
            "justify_items": null,
            "left": null,
            "margin": null,
            "max_height": null,
            "max_width": null,
            "min_height": null,
            "min_width": null,
            "object_fit": null,
            "object_position": null,
            "order": null,
            "overflow": null,
            "overflow_x": null,
            "overflow_y": null,
            "padding": null,
            "right": null,
            "top": null,
            "visibility": null,
            "width": null
          }
        },
        "459084cde906438e96f7d90218b1714d": {
          "model_module": "@jupyter-widgets/controls",
          "model_name": "ProgressStyleModel",
          "model_module_version": "1.5.0",
          "state": {
            "_model_module": "@jupyter-widgets/controls",
            "_model_module_version": "1.5.0",
            "_model_name": "ProgressStyleModel",
            "_view_count": null,
            "_view_module": "@jupyter-widgets/base",
            "_view_module_version": "1.2.0",
            "_view_name": "StyleView",
            "bar_color": null,
            "description_width": ""
          }
        },
        "308c64e126924da18e3223b14b40190e": {
          "model_module": "@jupyter-widgets/base",
          "model_name": "LayoutModel",
          "model_module_version": "1.2.0",
          "state": {
            "_model_module": "@jupyter-widgets/base",
            "_model_module_version": "1.2.0",
            "_model_name": "LayoutModel",
            "_view_count": null,
            "_view_module": "@jupyter-widgets/base",
            "_view_module_version": "1.2.0",
            "_view_name": "LayoutView",
            "align_content": null,
            "align_items": null,
            "align_self": null,
            "border": null,
            "bottom": null,
            "display": null,
            "flex": null,
            "flex_flow": null,
            "grid_area": null,
            "grid_auto_columns": null,
            "grid_auto_flow": null,
            "grid_auto_rows": null,
            "grid_column": null,
            "grid_gap": null,
            "grid_row": null,
            "grid_template_areas": null,
            "grid_template_columns": null,
            "grid_template_rows": null,
            "height": null,
            "justify_content": null,
            "justify_items": null,
            "left": null,
            "margin": null,
            "max_height": null,
            "max_width": null,
            "min_height": null,
            "min_width": null,
            "object_fit": null,
            "object_position": null,
            "order": null,
            "overflow": null,
            "overflow_x": null,
            "overflow_y": null,
            "padding": null,
            "right": null,
            "top": null,
            "visibility": null,
            "width": null
          }
        },
        "c678aca5a4e6469b97b65395dc51c9ec": {
          "model_module": "@jupyter-widgets/controls",
          "model_name": "DescriptionStyleModel",
          "model_module_version": "1.5.0",
          "state": {
            "_model_module": "@jupyter-widgets/controls",
            "_model_module_version": "1.5.0",
            "_model_name": "DescriptionStyleModel",
            "_view_count": null,
            "_view_module": "@jupyter-widgets/base",
            "_view_module_version": "1.2.0",
            "_view_name": "StyleView",
            "description_width": ""
          }
        },
        "d81896dbd81b412db310e610fdeb1f8c": {
          "model_module": "@jupyter-widgets/controls",
          "model_name": "HBoxModel",
          "model_module_version": "1.5.0",
          "state": {
            "_dom_classes": [],
            "_model_module": "@jupyter-widgets/controls",
            "_model_module_version": "1.5.0",
            "_model_name": "HBoxModel",
            "_view_count": null,
            "_view_module": "@jupyter-widgets/controls",
            "_view_module_version": "1.5.0",
            "_view_name": "HBoxView",
            "box_style": "",
            "children": [
              "IPY_MODEL_e0b221d19bf2426b8d14616d5ec3fe32",
              "IPY_MODEL_6d5dc792933849628961096584682346",
              "IPY_MODEL_33b5f9a0b3dc4fc687079bed0443248c"
            ],
            "layout": "IPY_MODEL_6094e9228db24595a7310a8b5a276297"
          }
        },
        "e0b221d19bf2426b8d14616d5ec3fe32": {
          "model_module": "@jupyter-widgets/controls",
          "model_name": "HTMLModel",
          "model_module_version": "1.5.0",
          "state": {
            "_dom_classes": [],
            "_model_module": "@jupyter-widgets/controls",
            "_model_module_version": "1.5.0",
            "_model_name": "HTMLModel",
            "_view_count": null,
            "_view_module": "@jupyter-widgets/controls",
            "_view_module_version": "1.5.0",
            "_view_name": "HTMLView",
            "description": "",
            "description_tooltip": null,
            "layout": "IPY_MODEL_299728e9410d41319a954d2183558b8a",
            "placeholder": "​",
            "style": "IPY_MODEL_5d1c5bb632524e939a801cd10e0afbcb",
            "value": "100%"
          }
        },
        "6d5dc792933849628961096584682346": {
          "model_module": "@jupyter-widgets/controls",
          "model_name": "FloatProgressModel",
          "model_module_version": "1.5.0",
          "state": {
            "_dom_classes": [],
            "_model_module": "@jupyter-widgets/controls",
            "_model_module_version": "1.5.0",
            "_model_name": "FloatProgressModel",
            "_view_count": null,
            "_view_module": "@jupyter-widgets/controls",
            "_view_module_version": "1.5.0",
            "_view_name": "ProgressView",
            "bar_style": "success",
            "description": "",
            "description_tooltip": null,
            "layout": "IPY_MODEL_1f3a32ea08a14e1a995843d0edd9c8ce",
            "max": 1000,
            "min": 0,
            "orientation": "horizontal",
            "style": "IPY_MODEL_7f69424afc0d4f49a8240ee044f76096",
            "value": 1000
          }
        },
        "33b5f9a0b3dc4fc687079bed0443248c": {
          "model_module": "@jupyter-widgets/controls",
          "model_name": "HTMLModel",
          "model_module_version": "1.5.0",
          "state": {
            "_dom_classes": [],
            "_model_module": "@jupyter-widgets/controls",
            "_model_module_version": "1.5.0",
            "_model_name": "HTMLModel",
            "_view_count": null,
            "_view_module": "@jupyter-widgets/controls",
            "_view_module_version": "1.5.0",
            "_view_name": "HTMLView",
            "description": "",
            "description_tooltip": null,
            "layout": "IPY_MODEL_e7fa7ddfcf3d4436bf8fc84dae9e7360",
            "placeholder": "​",
            "style": "IPY_MODEL_0ac48a70cbd9492fb893f2aa7fdc90a3",
            "value": " 1000/1000 [02:22&lt;00:00,  7.68it/s]"
          }
        },
        "6094e9228db24595a7310a8b5a276297": {
          "model_module": "@jupyter-widgets/base",
          "model_name": "LayoutModel",
          "model_module_version": "1.2.0",
          "state": {
            "_model_module": "@jupyter-widgets/base",
            "_model_module_version": "1.2.0",
            "_model_name": "LayoutModel",
            "_view_count": null,
            "_view_module": "@jupyter-widgets/base",
            "_view_module_version": "1.2.0",
            "_view_name": "LayoutView",
            "align_content": null,
            "align_items": null,
            "align_self": null,
            "border": null,
            "bottom": null,
            "display": null,
            "flex": null,
            "flex_flow": null,
            "grid_area": null,
            "grid_auto_columns": null,
            "grid_auto_flow": null,
            "grid_auto_rows": null,
            "grid_column": null,
            "grid_gap": null,
            "grid_row": null,
            "grid_template_areas": null,
            "grid_template_columns": null,
            "grid_template_rows": null,
            "height": null,
            "justify_content": null,
            "justify_items": null,
            "left": null,
            "margin": null,
            "max_height": null,
            "max_width": null,
            "min_height": null,
            "min_width": null,
            "object_fit": null,
            "object_position": null,
            "order": null,
            "overflow": null,
            "overflow_x": null,
            "overflow_y": null,
            "padding": null,
            "right": null,
            "top": null,
            "visibility": null,
            "width": null
          }
        },
        "299728e9410d41319a954d2183558b8a": {
          "model_module": "@jupyter-widgets/base",
          "model_name": "LayoutModel",
          "model_module_version": "1.2.0",
          "state": {
            "_model_module": "@jupyter-widgets/base",
            "_model_module_version": "1.2.0",
            "_model_name": "LayoutModel",
            "_view_count": null,
            "_view_module": "@jupyter-widgets/base",
            "_view_module_version": "1.2.0",
            "_view_name": "LayoutView",
            "align_content": null,
            "align_items": null,
            "align_self": null,
            "border": null,
            "bottom": null,
            "display": null,
            "flex": null,
            "flex_flow": null,
            "grid_area": null,
            "grid_auto_columns": null,
            "grid_auto_flow": null,
            "grid_auto_rows": null,
            "grid_column": null,
            "grid_gap": null,
            "grid_row": null,
            "grid_template_areas": null,
            "grid_template_columns": null,
            "grid_template_rows": null,
            "height": null,
            "justify_content": null,
            "justify_items": null,
            "left": null,
            "margin": null,
            "max_height": null,
            "max_width": null,
            "min_height": null,
            "min_width": null,
            "object_fit": null,
            "object_position": null,
            "order": null,
            "overflow": null,
            "overflow_x": null,
            "overflow_y": null,
            "padding": null,
            "right": null,
            "top": null,
            "visibility": null,
            "width": null
          }
        },
        "5d1c5bb632524e939a801cd10e0afbcb": {
          "model_module": "@jupyter-widgets/controls",
          "model_name": "DescriptionStyleModel",
          "model_module_version": "1.5.0",
          "state": {
            "_model_module": "@jupyter-widgets/controls",
            "_model_module_version": "1.5.0",
            "_model_name": "DescriptionStyleModel",
            "_view_count": null,
            "_view_module": "@jupyter-widgets/base",
            "_view_module_version": "1.2.0",
            "_view_name": "StyleView",
            "description_width": ""
          }
        },
        "1f3a32ea08a14e1a995843d0edd9c8ce": {
          "model_module": "@jupyter-widgets/base",
          "model_name": "LayoutModel",
          "model_module_version": "1.2.0",
          "state": {
            "_model_module": "@jupyter-widgets/base",
            "_model_module_version": "1.2.0",
            "_model_name": "LayoutModel",
            "_view_count": null,
            "_view_module": "@jupyter-widgets/base",
            "_view_module_version": "1.2.0",
            "_view_name": "LayoutView",
            "align_content": null,
            "align_items": null,
            "align_self": null,
            "border": null,
            "bottom": null,
            "display": null,
            "flex": null,
            "flex_flow": null,
            "grid_area": null,
            "grid_auto_columns": null,
            "grid_auto_flow": null,
            "grid_auto_rows": null,
            "grid_column": null,
            "grid_gap": null,
            "grid_row": null,
            "grid_template_areas": null,
            "grid_template_columns": null,
            "grid_template_rows": null,
            "height": null,
            "justify_content": null,
            "justify_items": null,
            "left": null,
            "margin": null,
            "max_height": null,
            "max_width": null,
            "min_height": null,
            "min_width": null,
            "object_fit": null,
            "object_position": null,
            "order": null,
            "overflow": null,
            "overflow_x": null,
            "overflow_y": null,
            "padding": null,
            "right": null,
            "top": null,
            "visibility": null,
            "width": null
          }
        },
        "7f69424afc0d4f49a8240ee044f76096": {
          "model_module": "@jupyter-widgets/controls",
          "model_name": "ProgressStyleModel",
          "model_module_version": "1.5.0",
          "state": {
            "_model_module": "@jupyter-widgets/controls",
            "_model_module_version": "1.5.0",
            "_model_name": "ProgressStyleModel",
            "_view_count": null,
            "_view_module": "@jupyter-widgets/base",
            "_view_module_version": "1.2.0",
            "_view_name": "StyleView",
            "bar_color": null,
            "description_width": ""
          }
        },
        "e7fa7ddfcf3d4436bf8fc84dae9e7360": {
          "model_module": "@jupyter-widgets/base",
          "model_name": "LayoutModel",
          "model_module_version": "1.2.0",
          "state": {
            "_model_module": "@jupyter-widgets/base",
            "_model_module_version": "1.2.0",
            "_model_name": "LayoutModel",
            "_view_count": null,
            "_view_module": "@jupyter-widgets/base",
            "_view_module_version": "1.2.0",
            "_view_name": "LayoutView",
            "align_content": null,
            "align_items": null,
            "align_self": null,
            "border": null,
            "bottom": null,
            "display": null,
            "flex": null,
            "flex_flow": null,
            "grid_area": null,
            "grid_auto_columns": null,
            "grid_auto_flow": null,
            "grid_auto_rows": null,
            "grid_column": null,
            "grid_gap": null,
            "grid_row": null,
            "grid_template_areas": null,
            "grid_template_columns": null,
            "grid_template_rows": null,
            "height": null,
            "justify_content": null,
            "justify_items": null,
            "left": null,
            "margin": null,
            "max_height": null,
            "max_width": null,
            "min_height": null,
            "min_width": null,
            "object_fit": null,
            "object_position": null,
            "order": null,
            "overflow": null,
            "overflow_x": null,
            "overflow_y": null,
            "padding": null,
            "right": null,
            "top": null,
            "visibility": null,
            "width": null
          }
        },
        "0ac48a70cbd9492fb893f2aa7fdc90a3": {
          "model_module": "@jupyter-widgets/controls",
          "model_name": "DescriptionStyleModel",
          "model_module_version": "1.5.0",
          "state": {
            "_model_module": "@jupyter-widgets/controls",
            "_model_module_version": "1.5.0",
            "_model_name": "DescriptionStyleModel",
            "_view_count": null,
            "_view_module": "@jupyter-widgets/base",
            "_view_module_version": "1.2.0",
            "_view_name": "StyleView",
            "description_width": ""
          }
        }
      }
    }
  },
  "nbformat": 4,
  "nbformat_minor": 0
}