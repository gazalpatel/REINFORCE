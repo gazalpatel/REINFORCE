{
 "cells": [
  {
   "cell_type": "markdown",
   "id": "recent-bunch",
   "metadata": {},
   "source": [
    "# SAC (Soft Actor-Critic)\n",
    "\n",
    "SAC (Soft Actor-Critic) is one of today's popular algorithm, which is based on **off-policy** DDPG discussed in [here](./05-ddpg.ipynb).<br>\n",
    "However, unlike DDPG, SAC applies entropy regularization and trains a stochastic policy, not a deterministic policy.\n",
    "\n",
    "Entropy is defined as $ H(P) = -\\int P(x) \\log P(x) = E_x[-\\log P(x)] $ and it means how $ P(\\cdot) $ is distributed intuitively.<br>\n",
    "For instance, if it has 8 possible states, each of which is equally likely in discrete distribution, it will have $ H(P) = -\\sum P(x) \\log P(x) = -8 \\times \\frac{1}{8} \\log_2 \\frac{1}{8} = 3 $. (This implies that it needs 3 bits evenly.) If the distribution is $ (\\frac{1}{2}, \\frac{1}{4}, \\frac{1}{8}, \\frac{1}{16}, \\frac{1}{64}, \\frac{1}{64}, \\frac{1}{64}, \\frac{1}{64}) $, it will have $ H(P) = -\\frac{1}{2} \\log_2 \\frac{1}{2} - \\frac{1}{4} \\log_2 \\frac{1}{4} - \\frac{1}{8} \\log_2 \\frac{1}{8} - \\frac{1}{16} \\log_2 \\frac{1}{16} - 4 \\times \\frac{1}{64} \\log_2 \\frac{1}{64} = 2 $.<br>\n",
    "(Note that, for simplicity, I have replaced the base e of logarithm with 2.)<br>\n",
    "\n",
    "As you can see above, entropy will be larger, when the distribution has much randomness.\n",
    "\n",
    "> Note : In continuous distribution, it's known that the distribution that maximizes the entropy is Gaussian distribution. Here I don't go into details, but KL-divergence (the penalty for large updates) discussed in [PPO](./04-ppo.ipynb) is closely related with this entropy term.\n",
    "\n",
    "In SAC, instead of using a reward expectation $ r_t + \\gamma (d_t - 1) Q_{{\\phi}^{\\prime}} $ used in DDPG, it applies $ r_t + \\gamma (d_t - 1) (Q_{{\\phi}^{\\prime}} + \\alpha H(P)) $ (where $\\alpha$ is a coefficient parameter for entropy weight, called entropy temperature) in order to balance between exploitation and exploration.<br>\n",
    "Even if the estimated Q-value increases, it might be rejected when the entropy is largely reduced.\n",
    "\n",
    "*(back to [index](https://github.com/tsmatz/reinforcement-learning-tutorials/))*"
   ]
  },
  {
   "cell_type": "code",
   "execution_count": 5,
   "id": "49fc83ba",
   "metadata": {},
   "outputs": [],
   "source": [
    "# !pip install torch numpy gymnasium matplotlib"
   ]
  },
  {
   "cell_type": "code",
   "execution_count": 6,
   "id": "aa81765d",
   "metadata": {},
   "outputs": [
    {
     "data": {
      "text/plain": [
       "<torch._C.Generator at 0x166c8d950>"
      ]
     },
     "execution_count": 6,
     "metadata": {},
     "output_type": "execute_result"
    }
   ],
   "source": [
    "import random\n",
    "# import gymnasium as gym\n",
    "import gym\n",
    "import numpy as np\n",
    "import torch\n",
    "import torch.nn as nn\n",
    "from torch.nn import functional as F\n",
    "\n",
    "random.seed(20)\n",
    "np.random.seed(20)\n",
    "torch.manual_seed(20)"
   ]
  },
  {
   "cell_type": "markdown",
   "id": "b3e6a348-3e37-40bc-ae5c-dd7d53354331",
   "metadata": {},
   "source": [
    "In order to prevent from overflows, I apply double precision for float operations."
   ]
  },
  {
   "cell_type": "code",
   "execution_count": 8,
   "id": "84f04e47-08b2-40be-ac00-773ddcedfe41",
   "metadata": {},
   "outputs": [],
   "source": [
    "torch.set_default_dtype(torch.float64)"
   ]
  },
  {
   "cell_type": "markdown",
   "id": "126dd724",
   "metadata": {},
   "source": [
    "Unlike [DDPG](./05-ddpg.ipynb), we can use discrete action space in SAC. (See below for this reason.)<br>\n",
    "We then now use standard CartPole agent in Gymnasium."
   ]
  },
  {
   "cell_type": "code",
   "execution_count": 10,
   "id": "2c8bc368",
   "metadata": {},
   "outputs": [],
   "source": [
    "env = gym.make(\"CartPole-v0\")"
   ]
  },
  {
   "cell_type": "markdown",
   "id": "7385715b",
   "metadata": {},
   "source": [
    "Unlike DDPG, SAC trains a stochastic policy $ \\pi_{\\theta}(\\cdot) $ (where $ \\theta $ is parameters) instead of a deterministic policy $ \\mu_{\\theta}(\\cdot) $. (And we don't use target policy network $ \\pi_{\\theta^{\\prime}} $.)<br>\n",
    "In this example, I use categorical distribution (same as, used in [policy gradient](./02-policy-gradient.ipynb) and [PPO](./04-ppo.ipynb) example) for a policy $ P(\\cdot | \\pi_\\theta(s)) $, because it's discrete action space:\n",
    "\n",
    "> Note : For the bounded continuous action space between $ l $ and $ h $, use Gaussian distribution as follows.<br>\n",
    "> $ P(\\cdot | \\pi_\\theta(s)) = ((tanh(\\mathcal{N}(\\mu_{\\theta}(s), \\sigma_{\\theta}(s))) + 1.0) / 2.0) \\times (h - l) + l  $\n",
    "\n",
    "Because we use a stochastic policy, we don't then need Ornstein-Uhlenbeck noise used in [DDPG](./05-ddpg.ipynb) any more."
   ]
  },
  {
   "cell_type": "code",
   "execution_count": 12,
   "id": "4c8dbe81",
   "metadata": {},
   "outputs": [],
   "source": [
    "device = torch.device(\"cuda\" if torch.cuda.is_available() else \"cpu\")\n",
    "\n",
    "# Policy net (pi_theta)\n",
    "class PolicyNet(nn.Module):\n",
    "    def __init__(self, hidden_dim=64):\n",
    "        super().__init__()\n",
    "\n",
    "        self.hidden = nn.Linear(4, hidden_dim)\n",
    "        self.output = nn.Linear(hidden_dim, 2)\n",
    "\n",
    "    def forward(self, s):\n",
    "        outs = self.hidden(s)\n",
    "        outs = F.relu(outs)\n",
    "        outs = self.output(outs)\n",
    "        return outs\n",
    "\n",
    "pi_model = PolicyNet().to(device)\n",
    "\n",
    "# Pick up action (for each step in episode)\n",
    "def pick_sample(s):\n",
    "    with torch.no_grad():\n",
    "        #   --> size : (1, 4)\n",
    "        s_batch = np.expand_dims(s, axis=0)\n",
    "        s_batch = torch.tensor(s_batch, dtype=torch.float64).to(device)\n",
    "        # Get logits from state\n",
    "        #   --> size : (1, 2)\n",
    "        logits = pi_model(s_batch)\n",
    "        #   --> size : (2)\n",
    "        logits = logits.squeeze(dim=0)\n",
    "        # From logits to probabilities\n",
    "        probs = F.softmax(logits, dim=-1)\n",
    "        # Pick up action's sample\n",
    "        #   --> size : (1)\n",
    "        a = torch.multinomial(probs, num_samples=1)\n",
    "        #   --> size : ()\n",
    "        a = a.squeeze(dim=0)\n",
    "        # Return\n",
    "        return a.tolist()"
   ]
  },
  {
   "cell_type": "markdown",
   "id": "6845f8cf",
   "metadata": {},
   "source": [
    "Same as clipped double-Q (twin-Q) DDPG method (see the latter part in [here](./05-ddpg.ipynb)), we use 2 Q-networks - $ Q_{\\phi_1}(s), Q_{\\phi_2}(s) $ - and corresponding 2 target networks - $ Q_{\\phi_1^{\\prime}}(s), Q_{\\phi_2^{\\prime}}(s) $.\n",
    "\n",
    "You will find that this is different from the one used in [DDPG](./05-ddpg.ipynb). (In DDPG, we have used $Q(s, a)$.)<br>\n",
    "For categorical distribution with the depth n (in this example, n=2), the output of $ Q(\\cdot) $ is n-dimensional tensor, in which each element represents the expectation of Q-value for the corresponding action. And we then use $ Q(s) \\cdot \\tilde{a} $ (i.e, dot product operation) instead of $ Q(s, a) $, where $ \\tilde{a} $ is one hot tensor for action $ a $.<br>\n",
    "Because of this reason, we use $Q(s)$ instead of $Q(s, a)$."
   ]
  },
  {
   "cell_type": "code",
   "execution_count": 14,
   "id": "2b916fd2",
   "metadata": {},
   "outputs": [],
   "source": [
    "class QNet(nn.Module):\n",
    "    def __init__(self, hidden_dim=64):\n",
    "        super().__init__()\n",
    "\n",
    "        self.hidden = nn.Linear(4, hidden_dim)\n",
    "        self.output = nn.Linear(hidden_dim, 2)\n",
    "\n",
    "    def forward(self, s):\n",
    "        outs = self.hidden(s)\n",
    "        outs = F.relu(outs)\n",
    "        outs = self.output(outs)\n",
    "        return outs\n",
    "\n",
    "hidden_layers = 64\n",
    "q_origin_model1 = QNet(hidden_layers).to(device)  # Q_phi1\n",
    "q_origin_model2 = QNet(hidden_layers).to(device)  # Q_phi2\n",
    "q_target_model1 = QNet(hidden_layers).to(device)  # Q_phi1'\n",
    "q_target_model2 = QNet(hidden_layers).to(device)  # Q_phi2'\n",
    "_ = q_target_model1.requires_grad_(False)  # target model doen't need grad\n",
    "_ = q_target_model2.requires_grad_(False)  # target model doen't need grad"
   ]
  },
  {
   "cell_type": "markdown",
   "id": "61b9c1b5",
   "metadata": {},
   "source": [
    "As we saw in [clipped double-Q DDPG](./05-ddpg.ipynb), we optimize policy parameter $ \\theta $ to maximize $ Q_{\\phi_1}(s, a^*) + \\alpha H(P(\\cdot | \\pi_\\theta(s))) $ where $ a^* $ is an optimal action.\n",
    "\n",
    "As I have mentioned above, $ H(P) = E_x[-\\log P(x)] $.<br>\n",
    "In this categorical distribution (in discrete action space), $ H $ will then be the following dot product :\n",
    "\n",
    "$ H(P) = H(P(\\cdot | \\pi_\\theta(s))) = -\\pi_\\theta(s) \\cdot \\log \\pi_\\theta(s) $\n",
    "\n",
    "where $ \\pi_\\theta(s) $ is one hot probability.\n",
    "\n",
    "For $ Q(s, a^*) $ term, it will become the following dot product. (See above for this reason.) :\n",
    "\n",
    "$ Q_{\\phi_1}(s, a^*) = Q_{\\phi_1}(s) \\cdot \\pi_\\theta(s) $\n",
    "\n",
    "To summarize, we should optimize $ \\theta $ to maximize :\n",
    "\n",
    "$ E\\left[ \\pi_\\theta(s) \\cdot Q_{\\phi_1}(s) - \\alpha \\pi_\\theta(s) \\cdot \\log \\pi_\\theta(s) \\right] = E\\left[ \\pi_\\theta(s) \\cdot (Q_{\\phi_1}(s) - \\alpha \\log \\pi_\\theta(s)) \\right] $\n",
    "\n",
    "> Note : Here I have used a constant $ \\alpha $, but the appropriate temperature ($ \\alpha $) depends on the magnitude of rewards, and it's not so easy to determine appropriate temprature, because it also depends on policy, which improves over time during training.<br>\n",
    "> There exists a variation of SAC, in which $ \\alpha $ is also learned over the course of training to align to appropriate entropy."
   ]
  },
  {
   "cell_type": "code",
   "execution_count": 16,
   "id": "af62799c",
   "metadata": {},
   "outputs": [],
   "source": [
    "alpha = 0.05\n",
    "learning_rate = 0.005\n",
    "opt_pi = torch.optim.AdamW(pi_model.parameters(), lr=learning_rate)\n",
    "\n",
    "class categorical:\n",
    "    def __init__(self, s):\n",
    "        logits = pi_model(s)\n",
    "        self._prob = F.softmax(logits, dim=-1)\n",
    "        self._logp = torch.log(self._prob)\n",
    "\n",
    "    # probability (sum is 1.0) : P\n",
    "    def prob(self):\n",
    "        return self._prob\n",
    "\n",
    "    # log probability : log P()\n",
    "    def logp(self):\n",
    "        return self._logp\n",
    "\n",
    "def optimize_theta(states):\n",
    "    # Convert to tensor\n",
    "    states = torch.tensor(states, dtype=torch.float64).to(device)\n",
    "    # Disable grad in q_origin_model1 before computation\n",
    "    # (or use q_value.detach() not to include in graph)\n",
    "    for p in q_origin_model1.parameters():\n",
    "        p.requires_grad = False\n",
    "    # Optimize\n",
    "    opt_pi.zero_grad()\n",
    "    dist = categorical(states)\n",
    "    q_value = q_origin_model1(states)\n",
    "    term1 = dist.prob()\n",
    "    term2 = q_value - alpha * dist.logp()\n",
    "    expectation = term1.unsqueeze(dim=1) @ term2.unsqueeze(dim=2)\n",
    "    expectation = expectation.squeeze(dim=1)\n",
    "    (-expectation).sum().backward()\n",
    "    opt_pi.step()\n",
    "    # Enable grad again\n",
    "    for p in q_origin_model1.parameters():\n",
    "        p.requires_grad = True"
   ]
  },
  {
   "cell_type": "markdown",
   "id": "120612ed",
   "metadata": {},
   "source": [
    "Same as we saw in [clipped double-Q DDPG](./05-ddpg.ipynb), we optimize parameter $ \\phi_1, \\phi_2 $ as follows :\n",
    "\n",
    "- Optimize $ \\phi_1 $ to minimize $ E\\left[ \\left( Q_{\\phi_1}(s_t, a_t) - \\left( r_t + \\gamma (1 - d_t) \\left( \\min_{i=1,2} Q_{{\\phi_i}^{\\prime}}(s_{t+1},a^*_{t+1}) + \\alpha H(P(\\cdot | \\pi_\\theta(s_{t+1}))) \\right) \\right) \\right)^2 \\right] $\n",
    "- Optimize $ \\phi_2 $ to minimize $ E\\left[ \\left( Q_{\\phi_2}(s_t, a_t) - \\left( r_t + \\gamma (1 - d_t) \\left( \\min_{i=1,2} Q_{{\\phi_i}^{\\prime}}(s_{t+1},a^*_{t+1}) + \\alpha H(P(\\cdot | \\pi_\\theta(s_{t+1}))) \\right) \\right) \\right)^2 \\right] $\n",
    "\n",
    "in which :\n",
    "\n",
    "- $ Q_{\\phi_i}(s_t, a_t) = Q_{\\phi_i}(s_t) \\cdot \\tilde{a_t} $ where $ \\tilde{a_t} $ is one hot vector of $ a_t $\n",
    "- $ Q_{{\\phi_i}^{\\prime}}(s_{t+1},a^*_{t+1}) =  Q_{\\phi_i^{\\prime}}(s_{t+1}) \\cdot \\pi_\\theta(s_{t+1}) $ where $ \\pi_\\theta(s_{t+1}) $ is one hot probability\n",
    "- $ H(P(\\cdot | \\pi_\\theta(s_{t+1}))) = -\\pi_\\theta(s_{t+1}) \\cdot \\log \\pi_\\theta(s_{t+1}) $"
   ]
  },
  {
   "cell_type": "code",
   "execution_count": 18,
   "id": "a5fbac98",
   "metadata": {},
   "outputs": [],
   "source": [
    "gamma = 0.97\n",
    "\n",
    "opt_q1 = torch.optim.AdamW(q_origin_model1.parameters(), lr=learning_rate)\n",
    "opt_q2 = torch.optim.AdamW(q_origin_model2.parameters(), lr=learning_rate)\n",
    "\n",
    "def optimize_phi(states, actions, rewards, next_states, dones):\n",
    "    #\n",
    "    # Convert to tensor\n",
    "    #\n",
    "    states = torch.tensor(states, dtype=torch.float64).to(device)\n",
    "    actions = torch.tensor(actions, dtype=torch.int64).to(device)\n",
    "    rewards = torch.tensor(rewards, dtype=torch.float64).to(device)\n",
    "    rewards = rewards.unsqueeze(dim=1)\n",
    "    next_states = torch.tensor(next_states, dtype=torch.float64).to(device)\n",
    "    dones = torch.tensor(dones, dtype=torch.float64).to(device)\n",
    "    dones = dones.unsqueeze(dim=1)\n",
    "\n",
    "    #\n",
    "    # Compute r + gamma * (1 - d) (min Q(s_next,a_next') + alpha * H(P))\n",
    "    #\n",
    "    with torch.no_grad():\n",
    "        # min Q(s_next,a_next')\n",
    "        q1_tgt_next = q_target_model1(next_states)\n",
    "        q2_tgt_next = q_target_model2(next_states)\n",
    "        dist_next = categorical(next_states)\n",
    "        q1_target = q1_tgt_next.unsqueeze(dim=1) @ dist_next.prob().unsqueeze(dim=2)\n",
    "        q1_target = q1_target.squeeze(dim=1)\n",
    "        q2_target = q2_tgt_next.unsqueeze(dim=1) @ dist_next.prob().unsqueeze(dim=2)\n",
    "        q2_target = q2_target.squeeze(dim=1)\n",
    "        q_target_min = torch.minimum(q1_target, q2_target)\n",
    "        # alpha * H(P)\n",
    "        h = dist_next.prob().unsqueeze(dim=1) @ dist_next.logp().unsqueeze(dim=2)\n",
    "        h = h.squeeze(dim=1)\n",
    "        h = -alpha * h\n",
    "        # total\n",
    "        term2 = rewards + gamma * (1.0 - dones) * (q_target_min + h)\n",
    "\n",
    "    #\n",
    "    # Optimize critic loss for Q-network1\n",
    "    #\n",
    "    opt_q1.zero_grad()\n",
    "    one_hot_actions = F.one_hot(actions, num_classes=2).double()\n",
    "    q_value1 = q_origin_model1(states)\n",
    "    term1 = q_value1.unsqueeze(dim=1) @ one_hot_actions.unsqueeze(dim=2)\n",
    "    term1 = term1.squeeze(dim=1)\n",
    "    loss_q1 = F.mse_loss(\n",
    "        term1,\n",
    "        term2,\n",
    "        reduction=\"none\")\n",
    "    loss_q1.sum().backward()\n",
    "    opt_q1.step()\n",
    "\n",
    "    #\n",
    "    # Optimize critic loss for Q-network2\n",
    "    #\n",
    "    opt_q2.zero_grad()\n",
    "    one_hot_actions = F.one_hot(actions, num_classes=2).double()\n",
    "    q_value2 = q_origin_model2(states)\n",
    "    term1 = q_value2.unsqueeze(dim=1) @ one_hot_actions.unsqueeze(dim=2)\n",
    "    term1 = term1.squeeze(dim=1)\n",
    "    loss_q2 = F.mse_loss(\n",
    "        term1,\n",
    "        term2,\n",
    "        reduction=\"none\")\n",
    "    loss_q2.sum().backward()\n",
    "    opt_q2.step()"
   ]
  },
  {
   "cell_type": "markdown",
   "id": "b3c8100e",
   "metadata": {},
   "source": [
    "As we saw in [clipped double-Q DDPG](./05-ddpg.ipynb), target parameters $\\phi_1^{\\prime}, \\phi_2^{\\prime}$ are delayed with coefficient parameter (hyper-parameter) $ \\tau $."
   ]
  },
  {
   "cell_type": "code",
   "execution_count": 20,
   "id": "10bb910b",
   "metadata": {},
   "outputs": [],
   "source": [
    "tau = 0.003\n",
    "\n",
    "def update_target():\n",
    "    for var, var_target in zip(q_origin_model1.parameters(), q_target_model1.parameters()):\n",
    "        var_target.data = tau * var.data + (1.0 - tau) * var_target.data\n",
    "    for var, var_target in zip(q_origin_model2.parameters(), q_target_model2.parameters()):\n",
    "        var_target.data = tau * var.data + (1.0 - tau) * var_target.data"
   ]
  },
  {
   "cell_type": "markdown",
   "id": "ddc1f7f1",
   "metadata": {},
   "source": [
    "As we saw in [DDPG](./05-ddpg.ipynb), we use replay buffer to prevent from learning only for recent experiences."
   ]
  },
  {
   "cell_type": "code",
   "execution_count": 22,
   "id": "1172351c",
   "metadata": {},
   "outputs": [],
   "source": [
    "class replayBuffer:\n",
    "    def __init__(self, buffer_size: int):\n",
    "        self.buffer_size = buffer_size\n",
    "        self.buffer = []\n",
    "\n",
    "    def add(self, item):\n",
    "        if len(self.buffer) == self.buffer_size:\n",
    "            self.buffer.pop(0)\n",
    "        self.buffer.append(item)\n",
    "\n",
    "    def sample(self, batch_size):\n",
    "        items = random.sample(self.buffer, batch_size)\n",
    "        states   = [i[0] for i in items]\n",
    "        actions  = [i[1] for i in items]\n",
    "        rewards  = [i[2] for i in items]\n",
    "        n_states = [i[3] for i in items]\n",
    "        dones    = [i[4] for i in items]\n",
    "        return states, actions, rewards, n_states, dones\n",
    "\n",
    "    def length(self):\n",
    "        return len(self.buffer)\n",
    "\n",
    "buffer = replayBuffer(20000)"
   ]
  },
  {
   "cell_type": "markdown",
   "id": "f3b19a01",
   "metadata": {},
   "source": [
    "Now let's put it all together !"
   ]
  },
  {
   "cell_type": "code",
   "execution_count": 24,
   "id": "fe030199",
   "metadata": {},
   "outputs": [
    {
     "name": "stdout",
     "output_type": "stream",
     "text": [
      "Run episode38 with rewards 200.0\n",
      "Done\n"
     ]
    }
   ],
   "source": [
    "batch_size = 25\n",
    "epoch =1000\n",
    "\n",
    "\n",
    "# Get thresholds from environment constraints\n",
    "theta_threshold = (env.observation_space.high[2]) / 2 - 0.001  # Pole angle\n",
    "x_threshold = env.observation_space.high[0]  # Cart position\n",
    "\n",
    "\n",
    "reward_records = []\n",
    "for i in range(epoch):\n",
    "    # Run episode till done\n",
    "    env.seed(i)\n",
    "    s = env.reset()\n",
    "    env.seed(i)\n",
    "    \n",
    "    done = False\n",
    "    cum_reward = 0\n",
    "    while not done:\n",
    "        a = pick_sample(s)\n",
    "        s_next, r, term, trunc = env.step(a)\n",
    "        \n",
    "        \n",
    "        # Compute custom rewards\n",
    "        # Extract state variables\n",
    "        x = abs(s_next[0])  # Cart position (absolute value)\n",
    "        theta = abs(s_next[2])  # Pole angle (absolute value)\n",
    "        \n",
    "        weight1=0.165\n",
    "        cart = np.exp((x_threshold - x) / x_threshold) - 0.999  # Cart position reward\n",
    "        angle = np.exp((theta_threshold - theta) / theta_threshold) - 0.999  # Pole angle reward\n",
    "        reward = (weight1 * cart) + ((1-weight1) * angle)  # Combined reward\n",
    "        \n",
    "        done = term or trunc\n",
    "        # buffer.add([s.tolist(), a, r, s_next.tolist(), float(term)])\n",
    "        \n",
    "        buffer.add([s.tolist(), a, reward, s_next.tolist(), float(term)])\n",
    "        cum_reward += r\n",
    "        if buffer.length() >= batch_size:\n",
    "            states, actions, rewards, n_states, dones = buffer.sample(batch_size)\n",
    "            optimize_theta(states)\n",
    "            optimize_phi(states, actions, rewards, n_states, dones)\n",
    "            update_target()\n",
    "        s = s_next\n",
    "\n",
    "    # Output total rewards in episode (max 500)\n",
    "    print(\"Run episode{} with rewards {}\".format(i, cum_reward), end=\"\\r\")\n",
    "    reward_records.append(cum_reward)\n",
    "\n",
    "    # stop if reward mean > 475.0\n",
    "    if np.average(reward_records[-10:]) >= 195.0:\n",
    "        break\n",
    "\n",
    "env.close()\n",
    "print(\"\\nDone\")"
   ]
  },
  {
   "cell_type": "code",
   "execution_count": 25,
   "id": "537d2387",
   "metadata": {},
   "outputs": [
    {
     "data": {
      "image/png": "[encoded data removed]",
      "text/plain": [
       "<Figure size 640x480 with 1 Axes>"
      ]
     },
     "metadata": {},
     "output_type": "display_data"
    }
   ],
   "source": [
    "import matplotlib.pyplot as plt\n",
    "# Generate recent 50 interval average\n",
    "average_reward = []\n",
    "for idx in range(len(reward_records)):\n",
    "    avg_list = np.empty(shape=(1,), dtype=int)\n",
    "    if idx < 50:\n",
    "        avg_list = reward_records[:idx+1]\n",
    "    else:\n",
    "        avg_list = reward_records[idx-49:idx+1]\n",
    "    average_reward.append(np.average(avg_list))\n",
    "plt.plot(reward_records)\n",
    "plt.plot(average_reward)\n",
    "\n",
    "plt.axhline(y=195, color='r', linestyle='-')\n",
    "plt.show()"
   ]
  },
  {
   "cell_type": "code",
   "execution_count": 26,
   "id": "77c98759-1206-48f5-9366-072249ea86f4",
   "metadata": {
    "tags": []
   },
   "outputs": [],
   "source": [
    "# import pandas as pd\n",
    "# import numpy as np"
   ]
  },
  {
   "cell_type": "code",
   "execution_count": 27,
   "id": "cfc0182d",
   "metadata": {
    "tags": []
   },
   "outputs": [
    {
     "name": "stdout",
     "output_type": "stream",
     "text": [
      "[200.0, 200.0, 200.0, 200.0, 200.0, 200.0, 200.0, 200.0, 200.0, 200.0, 200.0, 200.0, 200.0, 200.0, 200.0, 200.0, 200.0, 200.0, 200.0, 200.0, 200.0, 200.0, 200.0, 200.0, 200.0, 200.0, 200.0, 200.0, 200.0, 200.0, 200.0, 200.0, 200.0, 200.0, 200.0, 200.0, 200.0, 200.0, 200.0, 200.0, 200.0, 200.0, 200.0, 200.0, 200.0, 200.0, 200.0, 200.0, 200.0, 200.0, 200.0, 200.0, 200.0, 200.0, 200.0, 200.0, 200.0, 200.0, 200.0, 200.0, 200.0, 200.0, 200.0, 200.0, 200.0, 200.0, 200.0, 200.0, 200.0, 200.0, 200.0, 200.0, 200.0, 200.0, 200.0, 200.0, 200.0, 200.0, 200.0, 200.0, 200.0, 200.0, 200.0, 200.0, 200.0, 200.0, 200.0, 200.0, 200.0, 200.0, 200.0, 200.0, 200.0, 200.0, 200.0, 200.0, 200.0, 200.0, 200.0, 200.0]\n",
      "test_score: 200.0\n",
      "test_success_percentage: 100\n",
      "count    100.0\n",
      "mean     200.0\n",
      "std        0.0\n",
      "min      200.0\n",
      "25%      200.0\n",
      "50%      200.0\n",
      "75%      200.0\n",
      "max      200.0\n",
      "Name: score, dtype: float64\n",
      "success\n",
      "True    100\n",
      "Name: count, dtype: int64\n"
     ]
    },
    {
     "data": {
      "image/png": "[encoded data removed]",
      "text/plain": [
       "<Figure size 579.5x500 with 1 Axes>"
      ]
     },
     "metadata": {},
     "output_type": "display_data"
    }
   ],
   "source": [
    "import pandas as pd\n",
    "import seaborn as sns\n",
    "\n",
    "def test_agent(i, print_reward=False):\n",
    "    env = gym.make('CartPole-v0')\n",
    "    env.seed(i)\n",
    "    s = env.reset()\n",
    "    env.seed(i)\n",
    "    rewards = []\n",
    "    obs=[]\n",
    "    for t in range(200):\n",
    "        a = pick_sample(s)\n",
    "        s, r, term, trunc = env.step(a)\n",
    "        done = term or trunc\n",
    "        rewards.append(r)\n",
    "        #print(sum(rewards))  \n",
    "        if done:\n",
    "            rew = sum(rewards)\n",
    "            if print_reward:\n",
    "                print(\"Reward:\", rew)\n",
    "            return rew\n",
    "    env.close()\n",
    "\n",
    "\n",
    "def plot_test_results(total=100):\n",
    "    random.seed(20)\n",
    "    np.random.seed(20)\n",
    "    torch.manual_seed(20)\n",
    "\n",
    "    test_scores = []\n",
    "    for i in range(total):\n",
    "        test_scores.append(test_agent(i, print_reward=False))\n",
    "        \n",
    "    print(test_scores)\n",
    "\n",
    "    print('test_score:', np.mean(test_scores))\n",
    "    print('test_success_percentage:', len([i for i in test_scores if i>=195]))\n",
    "    \n",
    "    test_df= pd.DataFrame({'test':range(total), 'score':test_scores})\n",
    "    test_df['success'] = test_df['score'].apply(lambda x: x>=195)\n",
    "    print(test_df['score'].describe())\n",
    "    c = test_df['success'].value_counts()\n",
    "    print(c)\n",
    "    # ax = sns.barplot(c)\n",
    "    # ax.bar_label(ax.containers[0], fontsize=10);\n",
    "    # plt.show()\n",
    "    sns.relplot(data=test_df, x=\"test\", y=\"score\", hue=\"success\")\n",
    "    plt.axhline(y=195, color='r', linestyle='-')\n",
    "    plt.show()\n",
    "    \n",
    "plot_test_results(total=100)"
   ]
  },
  {
   "cell_type": "code",
   "execution_count": 28,
   "id": "7cc8b535-b924-4372-bede-5fd5c0955316",
   "metadata": {
    "tags": []
   },
   "outputs": [
    {
     "name": "stdout",
     "output_type": "stream",
     "text": [
      "[200.0, 200.0, 200.0, 200.0, 200.0, 200.0, 200.0, 200.0, 200.0, 200.0, 200.0, 200.0, 200.0, 200.0, 200.0, 200.0, 200.0, 200.0, 200.0, 200.0, 200.0, 200.0, 200.0, 200.0, 200.0, 200.0, 200.0, 200.0, 200.0, 200.0, 200.0, 200.0, 200.0, 200.0, 200.0, 200.0, 200.0, 200.0, 200.0, 200.0, 200.0, 200.0, 200.0, 200.0, 200.0, 200.0, 200.0, 200.0, 200.0, 200.0, 200.0, 200.0, 200.0, 200.0, 200.0, 200.0, 200.0, 200.0, 200.0, 200.0, 200.0, 200.0, 200.0, 200.0, 200.0, 200.0, 200.0, 200.0, 200.0, 200.0, 200.0, 200.0, 200.0, 200.0, 200.0, 200.0, 200.0, 200.0, 200.0, 200.0, 200.0, 200.0, 200.0, 200.0, 200.0, 200.0, 200.0, 200.0, 200.0, 200.0, 200.0, 200.0, 200.0, 200.0, 200.0, 200.0, 200.0, 200.0, 200.0, 200.0, 200.0, 200.0, 200.0, 200.0, 200.0, 200.0, 200.0, 200.0, 200.0, 200.0, 200.0, 200.0, 200.0, 200.0, 200.0, 200.0, 200.0, 200.0, 200.0, 200.0, 200.0, 200.0, 200.0, 200.0, 200.0, 200.0, 200.0, 200.0, 200.0, 200.0, 200.0, 200.0, 200.0, 200.0, 200.0, 200.0, 200.0, 200.0, 200.0, 200.0, 200.0, 200.0, 200.0, 200.0, 200.0, 200.0, 200.0, 200.0, 200.0, 200.0, 200.0, 200.0, 200.0, 200.0, 200.0, 200.0, 200.0, 200.0, 192.0, 200.0, 200.0, 200.0, 196.0, 200.0, 200.0, 200.0, 200.0, 200.0, 200.0, 200.0, 200.0, 200.0, 200.0, 200.0, 200.0, 200.0, 200.0, 200.0, 200.0, 200.0, 200.0, 200.0, 200.0, 200.0, 200.0, 200.0, 200.0, 200.0, 200.0, 200.0, 200.0, 200.0, 200.0, 200.0, 200.0, 200.0, 200.0, 200.0, 200.0, 200.0, 200.0, 200.0, 200.0, 200.0, 200.0, 200.0, 200.0, 200.0, 200.0, 200.0, 200.0, 200.0, 200.0, 200.0, 200.0, 200.0, 200.0, 200.0, 195.0, 200.0, 200.0, 200.0, 200.0, 200.0, 200.0, 200.0, 200.0, 200.0, 200.0, 200.0, 200.0, 200.0, 200.0, 200.0, 200.0, 200.0, 200.0, 200.0, 200.0, 200.0, 200.0, 200.0, 200.0, 200.0, 200.0, 200.0, 200.0, 200.0, 200.0, 199.0, 200.0, 200.0, 200.0, 200.0, 200.0, 200.0, 200.0, 200.0, 200.0, 200.0, 200.0, 200.0, 200.0, 200.0, 200.0, 200.0, 200.0, 200.0, 200.0, 200.0, 200.0, 200.0, 200.0, 200.0, 200.0, 200.0, 200.0, 200.0, 200.0, 200.0, 200.0, 200.0, 200.0, 200.0, 200.0, 200.0, 200.0, 200.0, 200.0, 200.0, 200.0, 200.0, 200.0, 200.0, 200.0, 200.0, 200.0, 200.0, 200.0, 200.0, 200.0, 200.0, 200.0, 200.0, 200.0, 200.0, 200.0, 200.0, 200.0, 200.0, 200.0, 200.0, 200.0, 200.0, 200.0, 200.0, 200.0, 200.0, 200.0, 200.0, 200.0, 200.0, 200.0, 200.0, 200.0, 200.0, 200.0, 200.0, 200.0, 200.0, 200.0, 200.0, 200.0, 200.0, 200.0, 200.0, 200.0, 200.0, 200.0, 200.0, 200.0, 200.0, 200.0, 200.0, 200.0, 200.0, 200.0, 200.0, 200.0, 200.0, 200.0, 200.0, 200.0, 200.0, 200.0, 200.0, 200.0, 200.0, 200.0, 200.0, 200.0, 200.0, 200.0, 200.0, 200.0, 200.0, 200.0, 200.0, 200.0, 200.0, 200.0, 200.0, 200.0, 200.0, 200.0, 200.0, 200.0, 200.0, 200.0, 200.0, 200.0, 200.0, 200.0, 200.0, 200.0, 200.0, 200.0, 200.0, 200.0, 200.0, 200.0, 200.0, 200.0, 200.0, 200.0, 200.0, 200.0, 200.0, 200.0, 200.0, 200.0, 200.0, 200.0, 200.0, 200.0, 200.0, 200.0, 200.0, 200.0, 200.0, 200.0, 200.0, 200.0, 200.0, 200.0, 200.0, 200.0, 200.0, 200.0, 200.0, 200.0, 200.0, 200.0, 200.0, 200.0, 200.0, 200.0, 200.0, 200.0, 200.0, 200.0, 200.0, 200.0, 200.0, 200.0, 200.0, 200.0, 200.0, 200.0, 200.0, 200.0, 200.0, 200.0, 200.0, 200.0, 200.0, 200.0, 200.0, 200.0, 200.0, 200.0, 200.0, 200.0, 200.0, 200.0, 200.0, 200.0, 200.0, 200.0, 200.0, 200.0, 200.0, 200.0, 200.0, 200.0, 200.0, 200.0, 200.0, 200.0, 200.0, 200.0, 200.0, 200.0, 200.0, 200.0, 200.0, 200.0, 200.0, 200.0, 200.0, 200.0, 200.0, 200.0, 200.0, 200.0, 200.0, 200.0, 200.0, 200.0, 200.0, 200.0, 200.0, 200.0, 200.0, 200.0, 200.0, 200.0, 200.0, 200.0, 200.0]\n",
      "test_score: 199.964\n",
      "test_success_percentage: 499\n",
      "count    500.000000\n",
      "mean     199.964000\n",
      "std        0.459485\n",
      "min      192.000000\n",
      "25%      200.000000\n",
      "50%      200.000000\n",
      "75%      200.000000\n",
      "max      200.000000\n",
      "Name: score, dtype: float64\n",
      "success\n",
      "True     499\n",
      "False      1\n",
      "Name: count, dtype: int64\n"
     ]
    },
    {
     "data": {
      "image/png": "[encoded data removed]",
      "text/plain": [
       "<Figure size 584.875x500 with 1 Axes>"
      ]
     },
     "metadata": {},
     "output_type": "display_data"
    }
   ],
   "source": [
    "plot_test_results(total=500)"
   ]
  },
  {
   "cell_type": "raw",
   "id": "7900656d-9a0c-4135-a98a-4b40e1812c1a",
   "metadata": {},
   "source": [
    "hidden_layers = 64, gamma = 0.99, batch = 250, alpha = 0.1, tau=0.002, learning_rate = 0.0005 -> Run episode674 with rewards 200.0, test_mean = 195.760000, success=71\n",
    "hidden_layers = 64, gamma = 0.99, batch = 150, alpha = 0.1, tau=0.002, learning_rate = 0.0005 -> Run episode225 with rewards 200.0, test_mean = 196.76000, success=79\n",
    "hidden_layers = 64, gamma = 0.99, batch = 50, alpha = 0.1, tau=0.002, learning_rate = 0.0005 -> Run episode188 with rewards 200.0, test_mean = 198.840000, success=91 --->\n",
    "hidden_layers = 64, gamma = 0.99, batch = 25, alpha = 0.1, tau=0.002, learning_rate = 0.0005 -> Run episode283 with rewards 200.0, 199.99, 100 --->\n",
    "hidden_layers = 128, gamma = 0.99, batch = 25, alpha = 0.1, tau=0.002, learning_rate = 0.0005 -> Run episode469 with rewards 200.0, 199.750000, 99\n",
    "hidden_layers = 32, gamma = 0.99, batch = 25, alpha = 0.1, tau=0.002, learning_rate = 0.0005 -> Run episode489 with rewards 200.0, 200, 100\n",
    "hidden_layers = 64, gamma = 0.98, batch = 25, alpha = 0.1, tau=0.002, learning_rate = 0.0005 ->Run episode258 with rewards 200.0, 199.800000, 99 -->\n",
    "hidden_layers = 64, gamma = 0.98, batch = 25, alpha = 0.1, tau=0.001, learning_rate = 0.0005 ->Run episode270 with rewards 200.0, 198.1400, 84 \n",
    "hidden_layers = 64, gamma = 0.98, batch = 25, alpha = 0.1, tau=0.003, learning_rate = 0.0005 ->Run episode294 with rewards 200.0, 200, 100 \n",
    "hidden_layers = 64, gamma = 0.97, batch = 25, alpha = 0.1, tau=0.003, learning_rate = 0.0005 ->Run episode290 with rewards 200.0, 200, 100 \n",
    "hidden_layers = 64, gamma = 0.97, batch = 25, alpha = 0.2, tau=0.003, learning_rate = 0.0005 ->Run episode309 with rewards 200.0, 198.560000, 90 \n",
    "hidden_layers = 64, gamma = 0.97, batch = 25, alpha = 0.05, tau=0.003, learning_rate = 0.0005 ->Run episode371 with rewards 200.0, 200, 100 \n",
    "hidden_layers = 64, gamma = 0.97, batch = 25, alpha = 0.02, tau=0.003, learning_rate = 0.005 ->Run episode219 with rewards 200.0,  199.99 , 100 --->\n",
    "hidden_layers = 64, gamma = 0.97, batch = 25, alpha = 0.05, tau=0.003, learning_rate = 0.005 ->Run episode130 with rewards 200.0,  200 , 100 ---> best so far\n",
    "\n",
    "hidden_layers = 64, gamma = 0.97, batch = 25, alpha = 0.05, tau=0.003, learning_rate = 0.001 ->Run episode203 with rewards 200.0, 197.830000 , 84\n",
    "hidden_layers = 64, gamma = 0.97, batch = 25, alpha = 0.1, tau=0.003, learning_rate = 0.009 ->Run episode114 with rewards 200.0 (last 50), 192.060000 , 70\n",
    "hidden_layers = 64, gamma = 0.97, batch = 25, alpha = 0.1, tau=0.003, learning_rate = 0.009 ->Run episode160 with rewards 196.0(last 100),  199.090000 , 96 --->\n",
    "\n",
    "\n",
    "hidden_layers = 64, gamma = 0.97, batch = 25, alpha = 0.05, tau=0.003, learning_rate = 0.005 (with custom reward function 0.15) ->Run episode 84 with rewards 200.0,  200 , 100 ---> best so far :)\n",
    "\n",
    "hidden_layers = 64, gamma = 0.97, batch = 25, alpha = 0.05, tau=0.003, learning_rate = 0.005 (with custom reward function 0.16, 50 criteria) -> Run episode82 with rewards 200.0, 200, 100 --> \n",
    "\n",
    "hidden_layers = 64, gamma = 0.97, batch = 25, alpha = 0.05, tau=0.003, learning_rate = 0.005 (with custom reward function 0.165, 25 criteria) -> Run episode52 with rewards 200.0, 200, 100 --> best\n",
    "\n",
    "hidden_layers = 64, gamma = 0.97, batch = 25, alpha = 0.05, tau=0.003, learning_rate = 0.005 (with custom reward function 0.165, 15 criteria) -> Run episode43 with rewards 200.0, 200, 100 --> best\n",
    "\n",
    "hidden_layers = 64, gamma = 0.97, batch = 25, alpha = 0.05, tau=0.003, learning_rate = 0.005 (with custom reward function 0.165, 10 criteria) -> Run episode38 with rewards 200.0, 200, 100 --> best"
   ]
  },
  {
   "cell_type": "code",
   "execution_count": null,
   "id": "64c36630-d4ed-4524-a762-e6d91cc6c7f3",
   "metadata": {},
   "outputs": [],
   "source": []
  }
 ],
 "metadata": {
  "kernelspec": {
   "display_name": "test",
   "language": "python",
   "name": "test"
  },
  "language_info": {
   "codemirror_mode": {
    "name": "ipython",
    "version": 3
   },
   "file_extension": ".py",
   "mimetype": "text/x-python",
   "name": "python",
   "nbconvert_exporter": "python",
   "pygments_lexer": "ipython3",
   "version": "3.12.2"
  }
 },
 "nbformat": 4,
 "nbformat_minor": 5
}
